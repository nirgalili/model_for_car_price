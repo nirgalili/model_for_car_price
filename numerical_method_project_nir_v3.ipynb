{
 "cells": [
  {
   "cell_type": "markdown",
   "id": "c2fd689e",
   "metadata": {},
   "source": [
    "# Download and look into the data"
   ]
  },
  {
   "cell_type": "markdown",
   "id": "6a60a911",
   "metadata": {},
   "source": [
    "### Project description"
   ]
  },
  {
   "cell_type": "markdown",
   "id": "0eff0acb",
   "metadata": {},
   "source": [
    "Rusty Bargain used car sales service is developing an app to attract new\n",
    "customers. In that app, you can quickly find out the market value of your car.\n",
    "\n",
    "\n",
    "From the historical data that includes: technical specifications, trim versions, and\n",
    "prices. We need to build the model to determine the following values:\n",
    "\n",
    "- the quality of the prediction\n",
    "- the speed of the prediction\n",
    "- the time required for training"
   ]
  },
  {
   "cell_type": "markdown",
   "id": "e70afd60",
   "metadata": {},
   "source": [
    "### Import needed libraries"
   ]
  },
  {
   "cell_type": "code",
   "execution_count": null,
   "id": "45365e90",
   "metadata": {},
   "outputs": [],
   "source": [
    "# Data tools\n",
    "import pandas as pd\n",
    "import numpy as np\n",
    "#from pandas_profiling import ProfileReport\n",
    "\n",
    "# others\n",
    "import time\n",
    "\n",
    "# Graphics and display\n",
    "from IPython.core.interactiveshell import InteractiveShell\n",
    "import plotly.express as px\n",
    "import plotly.graph_objects as go\n",
    "import seaborn as sns\n",
    "import matplotlib.pyplot as plt\n",
    "import plotly.figure_factory as ff\n",
    "%matplotlib inline\n",
    "\n",
    "# Ml\n",
    "from sklearn.model_selection import train_test_split\n",
    "from sklearn.linear_model import LinearRegression\n",
    "from sklearn.metrics import mean_squared_error\n",
    "from sklearn.metrics import mean_absolute_error\n",
    "from sklearn.preprocessing import StandardScaler\n",
    "from sklearn.metrics import make_scorer\n",
    "from sklearn.model_selection import GridSearchCV\n",
    "from sklearn.model_selection import cross_val_score\n",
    "from sklearn.dummy import DummyRegressor\n",
    "from sklearn.impute import SimpleImputer\n",
    "from sklearn.preprocessing import OneHotEncoder\n",
    "from sklearn.preprocessing import OrdinalEncoder\n",
    "from sklearn.ensemble import RandomForestRegressor\n",
    "!pip install lightgbm \n",
    "import lightgbm as lgb\n",
    "!pip install catboost\n",
    "import catboost as cb\n",
    "\n",
    "# Statistics\n",
    "from scipy import stats\n",
    "\n",
    "print('Project libraries has been successfully been imported!')"
   ]
  },
  {
   "cell_type": "markdown",
   "id": "4fad6ebd",
   "metadata": {},
   "source": [
    "1.0.3  Set environment variables"
   ]
  },
  {
   "cell_type": "code",
   "execution_count": null,
   "id": "46a8efd4",
   "metadata": {},
   "outputs": [],
   "source": [
    "# set to display all output not only print() or last output\n",
    "InteractiveShell.ast_node_interactivity = \"all\"      "
   ]
  },
  {
   "cell_type": "markdown",
   "id": "c37a66f2",
   "metadata": {},
   "source": [
    "1.1  Open the file and look into the data."
   ]
  },
  {
   "cell_type": "code",
   "execution_count": null,
   "id": "879d071d",
   "metadata": {},
   "outputs": [],
   "source": [
    "try:\n",
    "    car_data = pd.read_csv('car_data.csv')\n",
    "except:\n",
    "    car_data = pd.read_csv('/datasets/car_data.csv')\n",
    "    \n",
    "print('Data has been read correctly!')"
   ]
  },
  {
   "cell_type": "markdown",
   "id": "e90923a1",
   "metadata": {},
   "source": [
    "###  Data describe"
   ]
  },
  {
   "cell_type": "code",
   "execution_count": null,
   "id": "0e8b653d",
   "metadata": {},
   "outputs": [],
   "source": [
    "# Checking 0's\n",
    "def zero_check(df):\n",
    "    for i in df:\n",
    "        print(i,len(df[df[i]==0]))\n",
    "        \n",
    "# function to determine if columns in file have null values        \n",
    "def get_percent_of_na(df, num):\n",
    "    count = 0\n",
    "    df = df.copy()\n",
    "    s = (df.isna().sum() / df.shape[0])\n",
    "    for column, percent in zip(s.index, s.values):\n",
    "        num_of_nulls = df[column].isna().sum()\n",
    "        if num_of_nulls == 0:\n",
    "            continue\n",
    "        else:\n",
    "            count += 1\n",
    "        print('{} has {} nulls, which is {:.{}%} percent of Nulls'.format(column, num_of_nulls, percent, num))\n",
    "    if count != 0:\n",
    "        print(\"\\033[1m\" + 'There are {} columns with NA.'.format(count) + \"\\033[0m\")\n",
    "    else:\n",
    "        print()\n",
    "        print(\"\\033[1m\" + 'There are no columns with NA.' + \"\\033[0m\")       \n",
    "        \n",
    "# function to display general information about the dataset\n",
    "def general_info(df):\n",
    "    print(\"\\033[1m\" + \"\\033[0m\")\n",
    "    display(pd.concat([df.dtypes, df.count(),df.isna().sum(),df.isna().sum()*100/len(df)], keys=['type','count','na','na%'],\n",
    "                      axis=1))\n",
    "    print()\n",
    "    print(\"\\033[1m\" + 'Head:')  \n",
    "    display(df.head())\n",
    "    print()\n",
    "    print(\"\\033[1m\" + 'Tail:')\n",
    "    display(df.tail())\n",
    "    print()\n",
    "    print(\"\\033[1m\" + 'Info:')\n",
    "    print()\n",
    "    display(df.info())\n",
    "    print()\n",
    "    print(\"\\033[1m\" + 'Describe:')\n",
    "    print()\n",
    "    display(df.describe())\n",
    "    print()\n",
    "    print(\"\\033[1m\" + 'Describe include: all :')\n",
    "    print()\n",
    "    display(df.describe(include='all'))\n",
    "    print()\n",
    "    print(\"\\033[1m\" + 'nulls in the columns:')\n",
    "    print()\n",
    "    display(get_percent_of_na(df, 4))  # check this out\n",
    "    print()\n",
    "    print(\"\\033[1m\" + 'Zeros in the columns:') \n",
    "    print()\n",
    "    display(zero_check(df))\n",
    "    print()\n",
    "    print(\"\\033[1m\" + 'Shape:', df.shape)\n",
    "    print()\n",
    "    print()\n",
    "    print('Duplicated:',\"\\033[1m\" + 'We have {} duplicated rows\\n'.format(df.duplicated().sum()) + \"\\033[0m\")\n",
    "    print()\n",
    "    print(\"\\033[1m\" + 'Dtypes:')  \n",
    "    display(df.dtypes)\n",
    "    print()"
   ]
  },
  {
   "cell_type": "code",
   "execution_count": null,
   "id": "d680e89e",
   "metadata": {},
   "outputs": [],
   "source": [
    "#print our data\n",
    "print('information about the dataset:')\n",
    "general_info(car_data)"
   ]
  },
  {
   "cell_type": "markdown",
   "id": "9e123c96",
   "metadata": {},
   "source": [
    "Notes:\n",
    "\n",
    "- We have missing values in some fields\n",
    "    - VehicleType\n",
    "    - Gearbox\n",
    "    - Model\n",
    "    - FuelType\n",
    "    - NotRepaired\n",
    "- Some fields contain categorial data, some numerical, some dates and some booleans\n",
    "- The price mean is much higher then it's median. Also have large varience.\n",
    "-  With mileage it's the opposite. Much higher median then mean.\n",
    "- We see zeroes in Price, Power, RegistrationMonth and NumberOfPictures \n",
    "- There are 354,369 observatioins from them 262 are duplicate"
   ]
  },
  {
   "cell_type": "code",
   "execution_count": null,
   "id": "dcfb83ed",
   "metadata": {},
   "outputs": [],
   "source": [
    "## changer fields name to lower case with _ separator"
   ]
  },
  {
   "cell_type": "code",
   "execution_count": null,
   "id": "b4861e3a",
   "metadata": {},
   "outputs": [],
   "source": [
    "car_data.columns = [x.lower() for x in car_data.columns]"
   ]
  },
  {
   "cell_type": "code",
   "execution_count": null,
   "id": "7e216510",
   "metadata": {},
   "outputs": [],
   "source": [
    "car_data.columns = ['date_crawled', 'price', 'vehicle_type', 'registration_year', 'gearbox',\n",
    "       'power', 'model', 'mileage', 'registration_month', 'fuel_type', 'brand',\n",
    "       'not_repaired', 'date_created', 'number_of_pictures', 'postal_code',\n",
    "       'last_seen']"
   ]
  },
  {
   "cell_type": "markdown",
   "id": "b4d1371d",
   "metadata": {},
   "source": [
    "## Columns info"
   ]
  },
  {
   "cell_type": "markdown",
   "id": "e769f76d",
   "metadata": {},
   "source": [
    "Features\n",
    "- DateCrawled — date profile was downloaded from the database\n",
    "- VehicleType — vehicle body type\n",
    "- RegistrationYear — vehicle registration year\n",
    "- Gearbox — gearbox type\n",
    "- Power — power (hp)\n",
    "- Model — vehicle model\n",
    "- Mileage — mileage (measured in km due to dataset's regional specifics)\n",
    "- RegistrationMonth — vehicle registration month\n",
    "- FuelType — fuel type\n",
    "- Brand — vehicle brand\n",
    "- NotRepaired — vehicle repaired or not\n",
    "- DateCreated — date of profile creation\n",
    "- NumberOfPictures — number of vehicle pictures\n",
    "- PostalCode — postal code of profile owner (user)\n",
    "- LastSeen — date of the last activity of the user\n",
    "\n",
    "\n",
    "Target\n",
    "- Price — price (Euro)"
   ]
  },
  {
   "cell_type": "markdown",
   "id": "19180c3f",
   "metadata": {},
   "source": [
    "## EDA with data cleaning"
   ]
  },
  {
   "cell_type": "code",
   "execution_count": null,
   "id": "d2225d9a",
   "metadata": {},
   "outputs": [],
   "source": [
    "car_data_original = car_data.copy(deep=True)"
   ]
  },
  {
   "cell_type": "markdown",
   "id": "e31f2ab0",
   "metadata": {},
   "source": [
    "### Univariate EDA\n",
    "Let's look at the distributions for each numeric variable in the dataset:"
   ]
  },
  {
   "cell_type": "code",
   "execution_count": null,
   "id": "be3f413f",
   "metadata": {},
   "outputs": [],
   "source": [
    "car_data.hist(edgecolor='black', linewidth=1.2, figsize=(15,10));"
   ]
  },
  {
   "cell_type": "markdown",
   "id": "3e9065dc",
   "metadata": {},
   "source": [
    "The price looks distributed ok.\n",
    "\n",
    "Registration year, Power and Number of pictures looks like there are some outliers and most of the data seats in very distinct area. I will explore this. \n",
    "\n",
    "On Mileage I see an abnormal behavior. The mileage per cars is pretty  low and stable and there are a lot of cars with high mileage of ~135000-150000 but not a single car with more then that. No slow decreasing that I would anticipate. I will explore this. \n",
    "\n",
    "\n",
    "\n"
   ]
  },
  {
   "cell_type": "markdown",
   "id": "0eadcf65",
   "metadata": {},
   "source": [
    "#### registration_year"
   ]
  },
  {
   "cell_type": "code",
   "execution_count": null,
   "id": "f18693ae",
   "metadata": {},
   "outputs": [],
   "source": [
    "px.box(car_data, x='registration_year').show()"
   ]
  },
  {
   "cell_type": "markdown",
   "id": "920c3379",
   "metadata": {},
   "source": [
    "This is the registration year. The result before the central region are before cars were invented and some are just to long ago and the ones after is in the future. Both irrelevant and shall be dismissed. "
   ]
  },
  {
   "cell_type": "code",
   "execution_count": null,
   "id": "5053aea1",
   "metadata": {},
   "outputs": [],
   "source": [
    "# construct function to remove extreem outliers\n",
    "def fences_of_column(df, column_name):\n",
    "    Q1 = df[column_name].quantile(0.25)\n",
    "    Q3 = df[column_name].quantile(0.75)\n",
    "    IQR = Q3 - Q1\n",
    "    lower_fence = Q1 - 1.5*IQR\n",
    "    upper_fence = Q3 + 1.5*IQR\n",
    "    return lower_fence, upper_fence"
   ]
  },
  {
   "cell_type": "code",
   "execution_count": null,
   "id": "83c61b25",
   "metadata": {},
   "outputs": [],
   "source": [
    "lower_fence, upper_fence = fences_of_column(car_data, 'registration_year')\n",
    "print('The lower fence is {} and the upper fece is {}'.format(lower_fence, upper_fence))"
   ]
  },
  {
   "cell_type": "code",
   "execution_count": null,
   "id": "4f3a79e4",
   "metadata": {},
   "outputs": [],
   "source": [
    "car_data = car_data.loc[\n",
    "    (car_data['registration_year'] > lower_fence) & (car_data['registration_year'] < upper_fence), :]"
   ]
  },
  {
   "cell_type": "code",
   "execution_count": null,
   "id": "d80348a0",
   "metadata": {},
   "outputs": [],
   "source": [
    "px.histogram(car_data, x='registration_year').show()"
   ]
  },
  {
   "cell_type": "markdown",
   "id": "dbcfd0b8",
   "metadata": {},
   "source": [
    "ok"
   ]
  },
  {
   "cell_type": "markdown",
   "id": "3b13292b",
   "metadata": {},
   "source": [
    "#### power"
   ]
  },
  {
   "cell_type": "code",
   "execution_count": null,
   "id": "c6aa2ac4",
   "metadata": {
    "scrolled": false
   },
   "outputs": [],
   "source": [
    "px.box(car_data, x='power').show()"
   ]
  },
  {
   "cell_type": "code",
   "execution_count": null,
   "id": "18f16eea",
   "metadata": {},
   "outputs": [],
   "source": [
    "lower_fence, upper_fence = fences_of_column(car_data, 'power')\n",
    "print('The lower fence is {} and the upper fece is {}'.format(lower_fence, upper_fence))"
   ]
  },
  {
   "cell_type": "code",
   "execution_count": null,
   "id": "1a250959",
   "metadata": {},
   "outputs": [],
   "source": [
    "car_data = car_data.loc[\n",
    "    (car_data['power'] > lower_fence) & (car_data['power'] < upper_fence), :]"
   ]
  },
  {
   "cell_type": "code",
   "execution_count": null,
   "id": "fe86bdfb",
   "metadata": {},
   "outputs": [],
   "source": [
    "px.histogram(car_data, x='power').show()"
   ]
  },
  {
   "cell_type": "markdown",
   "id": "4ca3240c",
   "metadata": {},
   "source": [
    "Cars with zero power are not possible. We will replace that with the mean"
   ]
  },
  {
   "cell_type": "code",
   "execution_count": null,
   "id": "aaf8197e",
   "metadata": {},
   "outputs": [],
   "source": [
    "car_data['power'] = car_data['power'].replace(to_replace=0, value=car_data['power'].mean())"
   ]
  },
  {
   "cell_type": "code",
   "execution_count": null,
   "id": "ed7fe9c6",
   "metadata": {},
   "outputs": [],
   "source": [
    "px.histogram(car_data, x='power').show()"
   ]
  },
  {
   "cell_type": "markdown",
   "id": "38280d7c",
   "metadata": {},
   "source": [
    "The spikes are probably because power  is rated in round values usually"
   ]
  },
  {
   "cell_type": "markdown",
   "id": "7236fb00",
   "metadata": {},
   "source": [
    "#### number_of_pictures"
   ]
  },
  {
   "cell_type": "code",
   "execution_count": null,
   "id": "1eeedd02",
   "metadata": {},
   "outputs": [],
   "source": [
    "car_data['number_of_pictures'].value_counts()"
   ]
  },
  {
   "cell_type": "markdown",
   "id": "4e32ad49",
   "metadata": {},
   "source": [
    "All pictures number are 0. This is usesles"
   ]
  },
  {
   "cell_type": "code",
   "execution_count": null,
   "id": "02b68d53",
   "metadata": {},
   "outputs": [],
   "source": [
    "car_data.drop(['number_of_pictures'], axis=1, inplace=True)"
   ]
  },
  {
   "cell_type": "code",
   "execution_count": null,
   "id": "31cde6ca",
   "metadata": {},
   "outputs": [],
   "source": [
    "#### mileage"
   ]
  },
  {
   "cell_type": "code",
   "execution_count": null,
   "id": "31216d11",
   "metadata": {},
   "outputs": [],
   "source": [
    "px.histogram(car_data, x='mileage').show()"
   ]
  },
  {
   "cell_type": "markdown",
   "id": "1312632b",
   "metadata": {},
   "source": [
    "I can see two things here\n",
    "\n",
    "1. values are given in a round values\n",
    "2. Since the mileage always increase and stop increase in 150K with very large observation number compare to the rest then my guess is that user can't fill up value above that so it contains all what is 150K and above"
   ]
  },
  {
   "cell_type": "markdown",
   "id": "cadf14b5",
   "metadata": {},
   "source": [
    "#### Non numerics data"
   ]
  },
  {
   "cell_type": "code",
   "execution_count": null,
   "id": "4994af3a",
   "metadata": {},
   "outputs": [],
   "source": [
    "# create numeric and non numeric data\n",
    "numerics = ['int16', 'int32', 'int64', 'float16', 'float32', 'float64']\n",
    "\n",
    "numerics_car_data = car_data.select_dtypes(include=numerics)\n",
    "non_numeric_car_data = car_data.select_dtypes(exclude=numerics)"
   ]
  },
  {
   "cell_type": "code",
   "execution_count": null,
   "id": "eb65631a",
   "metadata": {
    "scrolled": true
   },
   "outputs": [],
   "source": [
    "# print value_counts for the categorical features\n",
    "missing_categorical = car_data[non_numeric_car_data.columns.to_list()].isna().sum() \n",
    "list_of_missing_categorical = missing_categorical[missing_categorical > 0].index.to_list()\n",
    "car_data[list_of_missing_categorical]\n",
    "for column_name in list_of_missing_categorical:\n",
    "    print(column_name)\n",
    "    print(car_data[column_name].value_counts(dropna=False))\n",
    "    print()"
   ]
  },
  {
   "cell_type": "code",
   "execution_count": null,
   "id": "c96520c1",
   "metadata": {},
   "outputs": [],
   "source": [
    "car_data[list_of_missing_categorical].isnull().mean() * 100"
   ]
  },
  {
   "cell_type": "code",
   "execution_count": null,
   "id": "658c81c5",
   "metadata": {
    "scrolled": false
   },
   "outputs": [],
   "source": [
    "car_data.isnull().mean() * 100"
   ]
  },
  {
   "cell_type": "markdown",
   "id": "c1cccaa4",
   "metadata": {},
   "source": [
    "All the missings are in the categorical fields.\n",
    "\n",
    "Let's remove rows with more then one missing and see how it will change the missing status\n"
   ]
  },
  {
   "cell_type": "code",
   "execution_count": null,
   "id": "482325b0",
   "metadata": {},
   "outputs": [],
   "source": [
    "car_data =  car_data.dropna(thresh=(len(car_data.columns) - 1))\n",
    "car_data.isnull().mean() * 100"
   ]
  },
  {
   "cell_type": "markdown",
   "id": "511f1dd6",
   "metadata": {},
   "source": [
    "I will impute with the most common the missing places"
   ]
  },
  {
   "cell_type": "code",
   "execution_count": null,
   "id": "38e27096",
   "metadata": {},
   "outputs": [],
   "source": [
    "# define an imputer to treat the categorical missing values\n",
    "imputer_categorical = SimpleImputer(strategy='most_frequent')"
   ]
  },
  {
   "cell_type": "code",
   "execution_count": null,
   "id": "d143eee4",
   "metadata": {},
   "outputs": [],
   "source": [
    "# create function to auto impute\n",
    "def impute_values_in_column(df:pd.DataFrame, column_name, my_imputer) -> pd.DataFrame:\n",
    "    df[column_name] = my_imputer.fit_transform(\n",
    "    df[column_name].values.reshape(-1, 1))\n",
    "    return df  "
   ]
  },
  {
   "cell_type": "code",
   "execution_count": null,
   "id": "d43663a8",
   "metadata": {},
   "outputs": [],
   "source": [
    "for column_name in list_of_missing_categorical:\n",
    "    car_data = impute_values_in_column(car_data, column_name, imputer_categorical)"
   ]
  },
  {
   "cell_type": "code",
   "execution_count": null,
   "id": "7deeef10",
   "metadata": {},
   "outputs": [],
   "source": [
    "car_data.isnull().mean() * 100"
   ]
  },
  {
   "cell_type": "markdown",
   "id": "45c0d5e3",
   "metadata": {},
   "source": [
    "No missing values"
   ]
  },
  {
   "cell_type": "markdown",
   "id": "e5d5c68c",
   "metadata": {},
   "source": [
    "### Bivariate EDA\n",
    "Exploring the relations of features couple"
   ]
  },
  {
   "cell_type": "code",
   "execution_count": null,
   "id": "7ee1526b",
   "metadata": {
    "scrolled": false
   },
   "outputs": [],
   "source": [
    "px.scatter_matrix(numerics_car_data).show()"
   ]
  },
  {
   "cell_type": "markdown",
   "id": "93503997",
   "metadata": {},
   "source": [
    "Can't see anything particular. I will use corr matrix"
   ]
  },
  {
   "cell_type": "code",
   "execution_count": null,
   "id": "3fa5edd2",
   "metadata": {},
   "outputs": [],
   "source": [
    "numerics_car_data.corr()"
   ]
  },
  {
   "cell_type": "markdown",
   "id": "b094e188",
   "metadata": {},
   "source": [
    "There are few fields with above medium (> |0.3|) correlation with price. This is a good sighn for making predictions on this set. At the same time there are no other fields that explains very good other fields. This is good because we don't want our features to correlate too much. "
   ]
  },
  {
   "cell_type": "markdown",
   "id": "4460a7c6",
   "metadata": {},
   "source": [
    "### Treating dates"
   ]
  },
  {
   "cell_type": "code",
   "execution_count": null,
   "id": "7eea1694",
   "metadata": {
    "scrolled": true
   },
   "outputs": [],
   "source": [
    "car_data"
   ]
  },
  {
   "cell_type": "markdown",
   "id": "d77eabdc",
   "metadata": {},
   "source": [
    "### Duplicates"
   ]
  },
  {
   "cell_type": "code",
   "execution_count": null,
   "id": "73691eeb",
   "metadata": {
    "scrolled": true
   },
   "outputs": [],
   "source": [
    "car_data"
   ]
  },
  {
   "cell_type": "code",
   "execution_count": null,
   "id": "412ed04b",
   "metadata": {},
   "outputs": [],
   "source": [
    "print(f'There are {car_data[car_data.duplicated()].shape[0]} duplicates in the data')"
   ]
  },
  {
   "cell_type": "markdown",
   "id": "470de20c",
   "metadata": {},
   "source": [
    "I will remove them"
   ]
  },
  {
   "cell_type": "code",
   "execution_count": null,
   "id": "306e77b8",
   "metadata": {},
   "outputs": [],
   "source": [
    "car_data.drop_duplicates(inplace=True)"
   ]
  },
  {
   "cell_type": "code",
   "execution_count": null,
   "id": "56a3eff6",
   "metadata": {},
   "outputs": [],
   "source": [
    "print(f'There are {car_data[car_data.duplicated()].shape[0]} duplicates in the data')"
   ]
  },
  {
   "cell_type": "markdown",
   "id": "0c911210",
   "metadata": {},
   "source": [
    "ok"
   ]
  },
  {
   "cell_type": "markdown",
   "id": "b18014b8",
   "metadata": {},
   "source": [
    "## Data encoding"
   ]
  },
  {
   "cell_type": "markdown",
   "id": "ba8d971b",
   "metadata": {},
   "source": [
    "We need to encode our categorical values"
   ]
  },
  {
   "cell_type": "code",
   "execution_count": null,
   "id": "bdcd245c",
   "metadata": {},
   "outputs": [],
   "source": [
    "car_data[non_numeric_car_data.columns.to_list()]"
   ]
  },
  {
   "cell_type": "markdown",
   "id": "d8b2a3f9",
   "metadata": {},
   "source": [
    "### One hot encoding"
   ]
  },
  {
   "cell_type": "markdown",
   "id": "db78b44c",
   "metadata": {},
   "source": [
    "I will do OHE for - not_repaired "
   ]
  },
  {
   "cell_type": "code",
   "execution_count": null,
   "id": "d7f8024b",
   "metadata": {},
   "outputs": [],
   "source": [
    "# create dummies for not_repaired\n",
    "data_ohe = pd.get_dummies(car_data['not_repaired'], drop_first=True)"
   ]
  },
  {
   "cell_type": "code",
   "execution_count": null,
   "id": "bce33e40",
   "metadata": {},
   "outputs": [],
   "source": [
    "data_ohe.columns = ['not_repaired_yes']"
   ]
  },
  {
   "cell_type": "code",
   "execution_count": null,
   "id": "10ff6296",
   "metadata": {},
   "outputs": [],
   "source": [
    "# join the data with the ohe data of the car_data\n",
    "car_data = car_data.drop('not_repaired', axis=1).join(data_ohe)"
   ]
  },
  {
   "cell_type": "code",
   "execution_count": null,
   "id": "3f180d88",
   "metadata": {},
   "outputs": [],
   "source": [
    "car_data.sample(3)"
   ]
  },
  {
   "cell_type": "markdown",
   "id": "48c34dce",
   "metadata": {},
   "source": [
    "ok"
   ]
  },
  {
   "cell_type": "markdown",
   "id": "41e3bd57",
   "metadata": {},
   "source": [
    "### Use OrdinalEncoder  to Encode Multiple Columns All at Once"
   ]
  },
  {
   "cell_type": "code",
   "execution_count": null,
   "id": "bba05f82",
   "metadata": {},
   "outputs": [],
   "source": [
    "non_numeric_car_data.columns.to_list()"
   ]
  },
  {
   "cell_type": "code",
   "execution_count": null,
   "id": "df03d376",
   "metadata": {},
   "outputs": [],
   "source": [
    "columns_for_Ordinal_encoder = ['vehicle_type', 'gearbox', 'model', 'fuel_type', 'brand']"
   ]
  },
  {
   "cell_type": "code",
   "execution_count": null,
   "id": "b5aee1ed",
   "metadata": {},
   "outputs": [],
   "source": [
    "encoder = OrdinalEncoder()\n",
    "car_data[columns_for_Ordinal_encoder] = encoder.fit_transform(\n",
    "    car_data[columns_for_Ordinal_encoder])"
   ]
  },
  {
   "cell_type": "code",
   "execution_count": null,
   "id": "bec4efe3",
   "metadata": {},
   "outputs": [],
   "source": [
    "car_data.sample(3)"
   ]
  },
  {
   "cell_type": "markdown",
   "id": "59503fb9",
   "metadata": {},
   "source": [
    "ok"
   ]
  },
  {
   "cell_type": "markdown",
   "id": "eba8bd88",
   "metadata": {},
   "source": [
    "## Features selection"
   ]
  },
  {
   "cell_type": "markdown",
   "id": "21b0ce36",
   "metadata": {},
   "source": [
    "I will choose all features from dataset except the dates wich looks irrelevant in context."
   ]
  },
  {
   "cell_type": "code",
   "execution_count": null,
   "id": "07877cb7",
   "metadata": {},
   "outputs": [],
   "source": [
    "car_data = car_data.drop(['date_crawled', 'date_created', 'last_seen'], axis=1)"
   ]
  },
  {
   "cell_type": "code",
   "execution_count": null,
   "id": "f22eaf7c",
   "metadata": {
    "scrolled": true
   },
   "outputs": [],
   "source": [
    "car_data"
   ]
  },
  {
   "cell_type": "markdown",
   "id": "6052734c",
   "metadata": {},
   "source": [
    "# Train different models with various hyperparameters"
   ]
  },
  {
   "cell_type": "markdown",
   "id": "28236718",
   "metadata": {},
   "source": [
    "## Split the data"
   ]
  },
  {
   "cell_type": "code",
   "execution_count": null,
   "id": "8e33e3d0",
   "metadata": {},
   "outputs": [],
   "source": [
    "# create sample data for fast test of models\n",
    "car_data_sample = car_data.sample(n=car_data.shape[0] // 100, random_state=12345)"
   ]
  },
  {
   "cell_type": "code",
   "execution_count": null,
   "id": "fc04ddca",
   "metadata": {
    "scrolled": true
   },
   "outputs": [],
   "source": [
    "X = car_data.drop(['price'], axis=1)\n",
    "y = car_data['price']\n",
    "X_train, X_valid, y_train, y_valid = train_test_split(\n",
    "        X, y, test_size=0.25, random_state=12345\n",
    ")\n",
    "print(X_train.shape, X_valid.shape, y_train.shape, y_valid.shape)"
   ]
  },
  {
   "cell_type": "code",
   "execution_count": null,
   "id": "91814255",
   "metadata": {},
   "outputs": [],
   "source": [
    "X_sample = car_data_sample.drop(['price'], axis=1)\n",
    "y_sample = car_data_sample['price']\n",
    "X_train_sample, X_valid_sample, y_train_sample, y_valid_sample = train_test_split(\n",
    "        X_sample, y_sample, test_size=0.25, random_state=12345\n",
    ")\n",
    "print(X_train_sample.shape, X_valid_sample.shape, y_train_sample.shape, y_valid_sample.shape)"
   ]
  },
  {
   "cell_type": "code",
   "execution_count": null,
   "id": "24a1d287",
   "metadata": {},
   "outputs": [],
   "source": [
    "# create df to store results\n",
    "results_df = pd.DataFrame(columns=['model_type', 'time_sec', 'RMSE'])"
   ]
  },
  {
   "cell_type": "markdown",
   "id": "cc388222",
   "metadata": {},
   "source": [
    "### Create RMSE function for scoring"
   ]
  },
  {
   "cell_type": "code",
   "execution_count": null,
   "id": "c5783223",
   "metadata": {},
   "outputs": [],
   "source": [
    "def calc_RMSE(y_true,y_pred):\n",
    "    RMSE_temp = (mean_squared_error(y_true,y_pred))**0.5\n",
    "    return RMSE_temp"
   ]
  },
  {
   "cell_type": "code",
   "execution_count": null,
   "id": "10a59cdb",
   "metadata": {},
   "outputs": [],
   "source": [
    "RMSE_score = make_scorer(calc_RMSE, greater_is_better=False)"
   ]
  },
  {
   "cell_type": "markdown",
   "id": "04432675",
   "metadata": {},
   "source": [
    "## models creation and training"
   ]
  },
  {
   "cell_type": "markdown",
   "id": "f580e95a",
   "metadata": {},
   "source": [
    "### Linear regression"
   ]
  },
  {
   "cell_type": "code",
   "execution_count": null,
   "id": "4593c713",
   "metadata": {},
   "outputs": [],
   "source": [
    "lr = LinearRegression()"
   ]
  },
  {
   "cell_type": "code",
   "execution_count": null,
   "id": "dc94d363",
   "metadata": {},
   "outputs": [],
   "source": [
    "t = time.time() # start time\n",
    "lr.fit(X_train, y_train)\n",
    "elapsed = (time.time() - t) # elapsed time in seconds\n",
    "print(f'It took {elapsed} seconds for the model to train')"
   ]
  },
  {
   "cell_type": "code",
   "execution_count": null,
   "id": "e0d7ef46",
   "metadata": {},
   "outputs": [],
   "source": [
    "prediction = lr.predict(X_valid)\n",
    "RMSE = calc_RMSE(y_valid, prediction)\n",
    "print(f'The RMSE is: {RMSE} dollars')"
   ]
  },
  {
   "cell_type": "code",
   "execution_count": null,
   "id": "9314a958",
   "metadata": {},
   "outputs": [],
   "source": [
    "def append_to_score_df(model_name, time_in_sec, RMSE):\n",
    "    row_val = [model_name, time_in_sec, round(RMSE, 2)]\n",
    "    results_df.loc[len(results_df)] = row_val\n",
    "    print(results_df)"
   ]
  },
  {
   "cell_type": "code",
   "execution_count": null,
   "id": "5f72f481",
   "metadata": {},
   "outputs": [],
   "source": [
    "append_to_score_df(model_name='lr', time_in_sec=elapsed, RMSE=RMSE)"
   ]
  },
  {
   "cell_type": "markdown",
   "id": "8a5dfda4",
   "metadata": {},
   "source": [
    "### Random forest Regression"
   ]
  },
  {
   "cell_type": "code",
   "execution_count": null,
   "id": "d30385c7",
   "metadata": {},
   "outputs": [],
   "source": [
    "# create function for grid search\n",
    "def gs_evaluate(gs, X_train_gs, X_valid_gs, y_train_gs, y_valid_gs, X_gs, y_gs):\n",
    "\n",
    "    t = time.time() # start time\n",
    "    gs.fit(X_train_gs, y_train_gs)\n",
    "    elapsed = (time.time() - t) # elapsed time in seconds\n",
    "    best_score = -gs.best_score_\n",
    "    score_train = -gs.score(X_train_gs, y_train_gs)\n",
    "    score_valid = -gs.score(X_valid_gs, y_valid_gs)\n",
    "    score_full = -gs.score(X_gs, y_gs)\n",
    "    best_params = gs.best_params_\n",
    "    hour = int(elapsed // 3600)\n",
    "    minutes = int((elapsed/3600 - hour)*60)\n",
    "    seconds = round(((elapsed/3600 - hour)*60 - minutes)*60)\n",
    "    \n",
    "    \n",
    "    print('The best score in the cross validation is {:0.3f}, \\n\\\n",
    "    the best score on all training set is {:0.3f}, \\n\\\n",
    "    the best score on the valid set is {:0.3f} \\n\\\n",
    "    the best score on the full set is {:0.3f} \\n\\\n",
    "    and the parameters obtained from the GridSearchCV are: \\n{}'.format(\n",
    "    best_score, score_train, score_valid, score_full, best_params\n",
    "    ))\n",
    "    print()\n",
    "    print('It took {} hours, {} minutes and {} seconds for the model to train'.format(\n",
    "        hour, minutes, seconds\n",
    "    ))\n",
    "    \n",
    "    return elapsed, score_valid"
   ]
  },
  {
   "cell_type": "code",
   "execution_count": null,
   "id": "be0d5771",
   "metadata": {},
   "outputs": [],
   "source": [
    "# create model\n",
    "rf = RandomForestRegressor(random_state=12345)"
   ]
  },
  {
   "cell_type": "code",
   "execution_count": null,
   "id": "8b8e7a61",
   "metadata": {},
   "outputs": [],
   "source": [
    "param_grid = {\n",
    "    'max_depth': [2, 6, 8],\n",
    "    'n_estimators': [2, 3, 6]\n",
    "}"
   ]
  },
  {
   "cell_type": "code",
   "execution_count": null,
   "id": "2840c284",
   "metadata": {},
   "outputs": [],
   "source": [
    "# create grid search\n",
    "gs = GridSearchCV(estimator=rf, param_grid=param_grid, cv=5, scoring=RMSE_score, verbose=0)"
   ]
  },
  {
   "cell_type": "code",
   "execution_count": null,
   "id": "bbd5432d",
   "metadata": {},
   "outputs": [],
   "source": [
    "elapsed_1, best_score_1 = gs_evaluate(\n",
    "    gs, X_train_sample, X_valid_sample, y_train_sample, y_valid_sample, X_sample, y_sample\n",
    ")"
   ]
  },
  {
   "cell_type": "code",
   "execution_count": null,
   "id": "f3255e13",
   "metadata": {},
   "outputs": [],
   "source": [
    "elapsed_2, best_score_2 = gs_evaluate(\n",
    "    gs, X_train, X_valid, y_train, y_valid, X, y\n",
    ")"
   ]
  },
  {
   "cell_type": "code",
   "execution_count": null,
   "id": "d53eb1d2",
   "metadata": {},
   "outputs": [],
   "source": [
    "append_to_score_df(model_name='rf', time_in_sec=elapsed_2, RMSE=best_score_2)"
   ]
  },
  {
   "cell_type": "markdown",
   "id": "72e5eeed",
   "metadata": {},
   "source": [
    "### LightGBM Regression"
   ]
  },
  {
   "cell_type": "markdown",
   "id": "8dc15e19",
   "metadata": {},
   "source": [
    "Here I will test different number of iterations in the cat boost light gbm model"
   ]
  },
  {
   "cell_type": "code",
   "execution_count": null,
   "id": "2ac059f8",
   "metadata": {},
   "outputs": [],
   "source": [
    "# laoding data\n",
    "lgb_train = lgb.Dataset(X_train, y_train)\n",
    "lgb_eval = lgb.Dataset(X_valid, y_valid, reference=lgb_train)\n"
   ]
  },
  {
   "cell_type": "code",
   "execution_count": null,
   "id": "ea2b364a",
   "metadata": {},
   "outputs": [],
   "source": [
    "def lgbm_iterations_check(num_of_iterations):\n",
    "    # defining parameters \n",
    "    params = {\n",
    "        'task': 'train', \n",
    "        'boosting': 'gbdt',\n",
    "        'objective': 'regression',\n",
    "        'num_leaves': 10,\n",
    "        'learnnig_rage': 0.05,\n",
    "        'metric': {'l2','l1'},\n",
    "        'verbose': -1, \n",
    "        'num_iterations': num_of_iterations\n",
    "    }\n",
    "    \n",
    "    # fitting the model\n",
    "    t = time.time() # start time\n",
    "    lgbm = lgb.train(params,\n",
    "                     train_set=lgb_train,\n",
    "                     valid_sets=lgb_eval,\n",
    "                     early_stopping_rounds=30)\n",
    "    elapsed_lgbm = (time.time() - t) # elapsed time in seconds\n",
    "    print(f'It took {elapsed_lgbm} seconds for the model to train')\n",
    "    \n",
    "    # prediction\n",
    "    y_pred = lgbm.predict(X_valid)\n",
    "    \n",
    "    # accuracy check\n",
    "    mse = mean_squared_error(y_valid, y_pred)\n",
    "    rmse = mse**(0.5)\n",
    "    print(\"MSE: %.2f\" % mse)\n",
    "    print(\"RMSE: %.2f\" % rmse) \n",
    "\n",
    "#     MSE: 7.66\n",
    "#     RMSE: 2.77  \n",
    "    \n",
    "    return round(rmse), round(elapsed_lgbm, 4)\n",
    "    "
   ]
  },
  {
   "cell_type": "code",
   "execution_count": null,
   "id": "9e9c37ca",
   "metadata": {},
   "outputs": [],
   "source": [
    "rmse_list = []\n",
    "elapsed_lgbm_list = []\n",
    "x = []\n",
    "for i in range(100, 1000, 100):\n",
    "    rmse_1, elapsed_lgbm = lgbm_iterations_check(i)\n",
    "    rmse_list.append(rmse_1)\n",
    "    elapsed_lgbm_list.append(elapsed_lgbm)\n",
    "    x.append(i)\n",
    "    print(rmse_1, elapsed_lgbm, i)\n",
    "\n",
    "fig, ax1 = plt.subplots()\n",
    "ax2 = ax1.twinx()\n",
    "ax1.plot(x, elapsed_lgbm_list, c='b')\n",
    "ax2.plot(x, rmse_list, c='r')\n",
    "\n",
    "ax1.set_xlabel('Num of iterations')\n",
    "ax1.set_ylabel('Time in seconds', color='b')\n",
    "ax2.set_ylabel('RMSE', color='r')\n",
    "\n",
    "    "
   ]
  },
  {
   "cell_type": "markdown",
   "id": "f6c618bb",
   "metadata": {},
   "source": [
    "I will choose 500 iterations because after that no significant change in RMSE but training time keep rise steadily. "
   ]
  },
  {
   "cell_type": "code",
   "execution_count": null,
   "id": "3181d7b0",
   "metadata": {},
   "outputs": [],
   "source": [
    "rmse_lgbm, elapsed_lgbm = lgbm_iterations_check(500)"
   ]
  },
  {
   "cell_type": "code",
   "execution_count": null,
   "id": "36ad04ce",
   "metadata": {},
   "outputs": [],
   "source": [
    "append_to_score_df(model_name='lgbm', time_in_sec=elapsed_lgbm, RMSE=rmse_lgbm)"
   ]
  },
  {
   "cell_type": "markdown",
   "id": "309734e1",
   "metadata": {},
   "source": [
    "### CatBoost regression"
   ]
  },
  {
   "cell_type": "markdown",
   "id": "0a402723",
   "metadata": {},
   "source": [
    "Here I will test different depth in the cat boost regressor model"
   ]
  },
  {
   "cell_type": "code",
   "execution_count": null,
   "id": "17cb4d41",
   "metadata": {},
   "outputs": [],
   "source": [
    "train_dataset = cb.Pool(X_train, y_train) \n",
    "test_dataset = cb.Pool(X_valid, y_valid)"
   ]
  },
  {
   "cell_type": "code",
   "execution_count": null,
   "id": "0151e14d",
   "metadata": {},
   "outputs": [],
   "source": [
    "cbr = cb.CatBoostRegressor(loss_function='RMSE', depth=10)\n",
    "t = time.time() # start time\n",
    "cbr.fit(X_train, y_train)\n",
    "elapsed_cbr = (time.time() - t) # elapsed time in seconds\n",
    "pred = cbr.predict(X_valid)\n",
    "rmse = (np.sqrt(mean_squared_error(y_valid, pred)))\n",
    "\n",
    "print('The RMSE is: {}. It took {} seconds to train the model'.format(rmse, elapsed_cbr))"
   ]
  },
  {
   "cell_type": "code",
   "execution_count": null,
   "id": "9c48feae",
   "metadata": {},
   "outputs": [],
   "source": [
    "append_to_score_df(model_name='cbr', time_in_sec=elapsed_cbr, RMSE=rmse)"
   ]
  },
  {
   "cell_type": "markdown",
   "id": "fee0f3a8",
   "metadata": {},
   "source": [
    "# Analyze the speed and quality of the models"
   ]
  },
  {
   "cell_type": "code",
   "execution_count": null,
   "id": "c7ae5885",
   "metadata": {},
   "outputs": [],
   "source": [
    "print('The df with RMSE score and learning time')\n",
    "print()\n",
    "results_df"
   ]
  },
  {
   "cell_type": "markdown",
   "id": "25911cbd",
   "metadata": {},
   "source": [
    "We see that the best two algoritm in terms of RMSE are light GBM regressor and cat Boost regressor. cat Boost regressor made a better score but when comparing the training time we see that it took about 20 times longer in the cat Boost regressor. Given larger datasets despite the better accuracy of the cat Boost regressor model we might better choose the light GBM regressor"
   ]
  }
 ],
 "metadata": {
  "ExecuteTimeLog": [
   {
    "duration": 5884,
    "start_time": "2022-07-25T16:16:28.920Z"
   },
   {
    "duration": 3,
    "start_time": "2022-07-25T16:16:34.806Z"
   },
   {
    "duration": 934,
    "start_time": "2022-07-25T16:16:34.811Z"
   },
   {
    "duration": 8,
    "start_time": "2022-07-25T16:16:35.747Z"
   },
   {
    "duration": 1721,
    "start_time": "2022-07-25T16:16:35.757Z"
   },
   {
    "duration": 3,
    "start_time": "2022-07-25T16:16:37.479Z"
   },
   {
    "duration": 18,
    "start_time": "2022-07-25T16:16:37.483Z"
   },
   {
    "duration": 6,
    "start_time": "2022-07-25T16:16:37.503Z"
   },
   {
    "duration": 48,
    "start_time": "2022-07-25T16:16:37.511Z"
   },
   {
    "duration": 835,
    "start_time": "2022-07-25T16:16:37.562Z"
   },
   {
    "duration": 1879,
    "start_time": "2022-07-25T16:16:38.398Z"
   },
   {
    "duration": 3,
    "start_time": "2022-07-25T16:16:40.279Z"
   },
   {
    "duration": 41,
    "start_time": "2022-07-25T16:16:40.284Z"
   },
   {
    "duration": 97,
    "start_time": "2022-07-25T16:16:40.327Z"
   },
   {
    "duration": 1678,
    "start_time": "2022-07-25T16:16:40.425Z"
   },
   {
    "duration": 1425,
    "start_time": "2022-07-25T16:16:42.105Z"
   },
   {
    "duration": 14,
    "start_time": "2022-07-25T16:16:43.531Z"
   },
   {
    "duration": 99,
    "start_time": "2022-07-25T16:16:43.547Z"
   },
   {
    "duration": 1318,
    "start_time": "2022-07-25T16:16:43.648Z"
   },
   {
    "duration": 93,
    "start_time": "2022-07-25T16:16:44.968Z"
   },
   {
    "duration": 1887,
    "start_time": "2022-07-25T16:16:45.063Z"
   },
   {
    "duration": 7,
    "start_time": "2022-07-25T16:16:46.953Z"
   },
   {
    "duration": 71,
    "start_time": "2022-07-25T16:16:46.962Z"
   },
   {
    "duration": 2,
    "start_time": "2022-07-25T16:16:47.034Z"
   },
   {
    "duration": 1643,
    "start_time": "2022-07-25T16:16:47.038Z"
   },
   {
    "duration": 48,
    "start_time": "2022-07-25T16:16:48.683Z"
   },
   {
    "duration": 465,
    "start_time": "2022-07-25T16:16:48.733Z"
   },
   {
    "duration": 69,
    "start_time": "2022-07-25T16:16:49.202Z"
   },
   {
    "duration": 98,
    "start_time": "2022-07-25T16:16:49.273Z"
   },
   {
    "duration": 218,
    "start_time": "2022-07-25T16:16:49.373Z"
   },
   {
    "duration": 3,
    "start_time": "2022-07-25T16:16:49.592Z"
   },
   {
    "duration": 7,
    "start_time": "2022-07-25T16:16:49.596Z"
   },
   {
    "duration": 164,
    "start_time": "2022-07-25T16:16:49.604Z"
   },
   {
    "duration": 96,
    "start_time": "2022-07-25T16:16:49.770Z"
   },
   {
    "duration": 3503,
    "start_time": "2022-07-25T16:16:49.868Z"
   },
   {
    "duration": 79,
    "start_time": "2022-07-25T16:16:53.373Z"
   },
   {
    "duration": 79,
    "start_time": "2022-07-25T16:16:53.453Z"
   },
   {
    "duration": 22,
    "start_time": "2022-07-25T16:16:53.533Z"
   },
   {
    "duration": 486,
    "start_time": "2022-07-25T16:16:53.557Z"
   },
   {
    "duration": 517,
    "start_time": "2022-07-25T16:16:54.045Z"
   },
   {
    "duration": 490,
    "start_time": "2022-07-25T16:16:54.564Z"
   },
   {
    "duration": 81,
    "start_time": "2022-07-25T16:16:55.056Z"
   },
   {
    "duration": 18,
    "start_time": "2022-07-25T16:16:55.139Z"
   },
   {
    "duration": 3,
    "start_time": "2022-07-25T16:16:55.158Z"
   },
   {
    "duration": 174,
    "start_time": "2022-07-25T16:16:55.163Z"
   },
   {
    "duration": 96,
    "start_time": "2022-07-25T16:16:55.338Z"
   },
   {
    "duration": 3,
    "start_time": "2022-07-25T16:16:55.435Z"
   },
   {
    "duration": 8,
    "start_time": "2022-07-25T16:16:55.440Z"
   },
   {
    "duration": 704,
    "start_time": "2022-07-25T16:16:55.450Z"
   },
   {
    "duration": 33,
    "start_time": "2022-07-25T16:16:56.156Z"
   },
   {
    "duration": 32,
    "start_time": "2022-07-25T16:16:56.191Z"
   },
   {
    "duration": 20,
    "start_time": "2022-07-25T16:16:56.225Z"
   },
   {
    "duration": 19,
    "start_time": "2022-07-25T16:16:56.247Z"
   },
   {
    "duration": 58,
    "start_time": "2022-07-25T16:16:56.267Z"
   },
   {
    "duration": 8,
    "start_time": "2022-07-25T16:16:56.326Z"
   },
   {
    "duration": 35,
    "start_time": "2022-07-25T16:16:56.335Z"
   },
   {
    "duration": 18,
    "start_time": "2022-07-25T16:16:56.372Z"
   },
   {
    "duration": 32,
    "start_time": "2022-07-25T16:16:56.391Z"
   },
   {
    "duration": 37,
    "start_time": "2022-07-25T16:16:56.425Z"
   },
   {
    "duration": 260,
    "start_time": "2022-07-25T16:16:56.464Z"
   },
   {
    "duration": 9,
    "start_time": "2022-07-25T16:16:56.726Z"
   },
   {
    "duration": 187,
    "start_time": "2022-07-25T16:16:56.737Z"
   },
   {
    "duration": 23,
    "start_time": "2022-07-25T16:16:56.926Z"
   },
   {
    "duration": 22,
    "start_time": "2022-07-25T16:16:56.952Z"
   },
   {
    "duration": 23,
    "start_time": "2022-07-25T16:16:56.976Z"
   },
   {
    "duration": 16,
    "start_time": "2022-07-25T16:16:57.001Z"
   },
   {
    "duration": 18,
    "start_time": "2022-07-25T16:16:57.019Z"
   },
   {
    "duration": 737,
    "start_time": "2022-07-25T16:16:57.039Z"
   },
   {
    "duration": 44264,
    "start_time": "2022-07-25T16:16:57.777Z"
   },
   {
    "duration": 9,
    "start_time": "2022-07-25T16:17:42.043Z"
   },
   {
    "duration": 20,
    "start_time": "2022-07-25T16:17:42.055Z"
   },
   {
    "duration": 13,
    "start_time": "2022-07-25T16:17:42.076Z"
   },
   {
    "duration": 1082805,
    "start_time": "2022-07-25T16:17:42.091Z"
   },
   {
    "duration": 0,
    "start_time": "2022-07-25T16:35:44.898Z"
   },
   {
    "duration": 0,
    "start_time": "2022-07-25T16:35:44.899Z"
   },
   {
    "duration": 0,
    "start_time": "2022-07-25T16:35:44.900Z"
   },
   {
    "duration": 0,
    "start_time": "2022-07-25T16:35:44.901Z"
   },
   {
    "duration": 0,
    "start_time": "2022-07-25T16:35:44.903Z"
   },
   {
    "duration": 0,
    "start_time": "2022-07-25T16:35:44.904Z"
   },
   {
    "duration": 0,
    "start_time": "2022-07-25T16:35:44.924Z"
   }
  ],
  "kernelspec": {
   "display_name": "Python 3 (ipykernel)",
   "language": "python",
   "name": "python3"
  },
  "language_info": {
   "codemirror_mode": {
    "name": "ipython",
    "version": 3
   },
   "file_extension": ".py",
   "mimetype": "text/x-python",
   "name": "python",
   "nbconvert_exporter": "python",
   "pygments_lexer": "ipython3",
   "version": "3.9.7"
  },
  "toc": {
   "base_numbering": 1,
   "nav_menu": {},
   "number_sections": true,
   "sideBar": true,
   "skip_h1_title": false,
   "title_cell": "Table of Contents",
   "title_sidebar": "Contents",
   "toc_cell": false,
   "toc_position": {
    "height": "calc(100% - 180px)",
    "left": "10px",
    "top": "150px",
    "width": "426.667px"
   },
   "toc_section_display": true,
   "toc_window_display": true
  }
 },
 "nbformat": 4,
 "nbformat_minor": 5
}
